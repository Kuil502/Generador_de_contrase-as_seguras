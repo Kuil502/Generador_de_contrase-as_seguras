{
 "cells": [
  {
   "cell_type": "code",
   "execution_count": null,
   "id": "94930c94",
   "metadata": {},
   "outputs": [],
   "source": [
    "import secrets\n",
    "import string\n",
    "\n",
    "def generate_password(length=12):\n",
    "    \"\"\"\n",
    "    Genera una contraseña aleatoria.\n",
    "\n",
    "    Args:\n",
    "        length (int): Longitud de la contraseña. Por defecto es 12.\n",
    "\n",
    "    Returns:\n",
    "        str: Contraseña generada.\n",
    "    \"\"\"\n",
    "    if length <= 0:\n",
    "        raise ValueError(\"La longitud de la contraseña debe ser mayor que cero.\")\n",
    "        \n",
    "    alphabet = string.ascii_letters + string.digits + string.punctuation\n",
    "    return ''.join(secrets.choice(alphabet) for _ in range(length))\n",
    "\n",
    "if __name__ == \"__main__\":\n",
    "    try:\n",
    "        length = int(input(\"Ingresa la longitud de la contraseña: \"))\n",
    "        print(\"Contraseña generada:\", generate_password(length))\n",
    "    except ValueError:\n",
    "        print(\"Por favor, ingresa un número entero válido para la longitud de la contraseña.\")\n"
   ]
  }
 ],
 "metadata": {
  "kernelspec": {
   "display_name": "Python 3 (ipykernel)",
   "language": "python",
   "name": "python3"
  },
  "language_info": {
   "codemirror_mode": {
    "name": "ipython",
    "version": 3
   },
   "file_extension": ".py",
   "mimetype": "text/x-python",
   "name": "python",
   "nbconvert_exporter": "python",
   "pygments_lexer": "ipython3",
   "version": "3.9.13"
  }
 },
 "nbformat": 4,
 "nbformat_minor": 5
}
